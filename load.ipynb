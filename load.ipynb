{
 "cells": [
  {
   "cell_type": "code",
   "execution_count": 45,
   "metadata": {},
   "outputs": [],
   "source": [
    "from langchain_community.embeddings import HuggingFaceEmbeddings\n",
    "from pinecone import Pinecone, ServerlessSpec\n",
    "import json\n",
    "import os\n",
    "from dotenv import load_dotenv\n",
    "import os\n",
    "\n",
    "# Load environment variables\n",
    "load_dotenv()\n",
    "\n",
    "pc = Pinecone(api_key=os.getenv(\"PINECONE_API_KEY\"))"
   ]
  },
  {
   "cell_type": "code",
   "execution_count": 47,
   "metadata": {},
   "outputs": [],
   "source": [
    "#Don't run the cell unless you want to create new index.\n",
    "pc.create_index(\n",
    "    name=\"restuarant-rag\",\n",
    "    dimension=384,\n",
    "    metric=\"cosine\",\n",
    "    spec=ServerlessSpec(\n",
    "        cloud=\"aws\",\n",
    "        region=\"us-east-1\"\n",
    "    ) \n",
    ")"
   ]
  },
  {
   "cell_type": "code",
   "execution_count": null,
   "metadata": {},
   "outputs": [],
   "source": [
    "# HuggingFace Embeddings\n",
    "# Use this instead of OpenAI embeddings if you don't have an OpenAI account with credits\n",
    "hf_embeddings = HuggingFaceEmbeddings(model_name=\"sentence-transformers/all-MiniLM-L6-v2\")"
   ]
  },
  {
   "cell_type": "code",
   "execution_count": null,
   "metadata": {},
   "outputs": [],
   "source": [
    "data = json.load(open(\"reviews.json\"))\n",
    "data[\"restaurants\"]"
   ]
  },
  {
   "cell_type": "code",
   "execution_count": 50,
   "metadata": {},
   "outputs": [],
   "source": [
    "processed_data = []\n",
    "\n",
    "# Iterate through each restaurant and their reviews\n",
    "for restaurant in data[\"restaurants\"]:\n",
    "    # Combine relevant fields into a single string for embedding\n",
    "    combined_text = f\"{restaurant['description']} {restaurant['cuisine']} {restaurant['category']} {restaurant['rating']} {restaurant['priceRange']} {' '.join([review['review'] for review in restaurant['reviews']])}\"\n",
    "    \n",
    "    # Generate embedding for the combined text\n",
    "    embedding = hf_embeddings.embed_query(combined_text)\n",
    "\n",
    "    # Append processed data\n",
    "    processed_data.append(\n",
    "        {\n",
    "            \"values\": embedding,\n",
    "            \"id\": restaurant[\"name\"],\n",
    "            \"metadata\": {\n",
    "                \"description\": restaurant[\"description\"],\n",
    "                \"cuisine\": restaurant[\"cuisine\"],\n",
    "                \"category\": restaurant[\"category\"],\n",
    "                \"restaurant_rating\": restaurant[\"rating\"],\n",
    "                \"price_range\": restaurant[\"priceRange\"],\n",
    "                \"location\": restaurant[\"location\"],\n",
    "                \"reviews\":\" \".join([review['review'] for review in restaurant[\"reviews\"]])\n",
    "            }\n",
    "        }\n",
    "    )\n"
   ]
  },
  {
   "cell_type": "code",
   "execution_count": null,
   "metadata": {},
   "outputs": [],
   "source": [
    "# processed_data now contains the embeddings and metadata for each review\n",
    "# You can save it to a file or use it further in your application\n",
    "with open('processed_data.json', 'w') as outfile:\n",
    "    json.dump(processed_data, outfile, indent=4)\n",
    "\n",
    "print(\"Embeddings created and saved to 'processed_data.json'.\")"
   ]
  },
  {
   "cell_type": "code",
   "execution_count": null,
   "metadata": {},
   "outputs": [],
   "source": [
    "processed_data[0]"
   ]
  },
  {
   "cell_type": "code",
   "execution_count": 59,
   "metadata": {},
   "outputs": [],
   "source": [
    "# Insert the embeddings into the Pinecone index\n",
    "index = pc.Index(\"restuarant-rag\")\n",
    "upsert_response = index.upsert(\n",
    "    vectors=processed_data,\n",
    "    namespace=\"ns1\",\n",
    ")"
   ]
  },
  {
   "cell_type": "code",
   "execution_count": null,
   "metadata": {},
   "outputs": [],
   "source": [
    "index.describe_index_stats()"
   ]
  }
 ],
 "metadata": {
  "kernelspec": {
   "display_name": "Python 3",
   "language": "python",
   "name": "python3"
  },
  "language_info": {
   "codemirror_mode": {
    "name": "ipython",
    "version": 3
   },
   "file_extension": ".py",
   "mimetype": "text/x-python",
   "name": "python",
   "nbconvert_exporter": "python",
   "pygments_lexer": "ipython3",
   "version": "3.12.4"
  }
 },
 "nbformat": 4,
 "nbformat_minor": 2
}
